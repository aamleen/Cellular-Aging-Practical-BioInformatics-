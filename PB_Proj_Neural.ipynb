{
  "nbformat": 4,
  "nbformat_minor": 0,
  "metadata": {
    "colab": {
      "name": "PB_Proj_Neural.ipynb",
      "provenance": []
    },
    "kernelspec": {
      "name": "python3",
      "display_name": "Python 3"
    },
    "language_info": {
      "name": "python"
    }
  },
  "cells": [
    {
      "cell_type": "code",
      "execution_count": 3,
      "metadata": {
        "colab": {
          "base_uri": "https://localhost:8080/"
        },
        "id": "S99TcfwRAcVX",
        "outputId": "5eeb0fdd-73e5-4fca-8811-68db33c12abb"
      },
      "outputs": [
        {
          "output_type": "stream",
          "name": "stderr",
          "text": [
            "/usr/local/lib/python3.7/dist-packages/pandas/core/frame.py:4913: SettingWithCopyWarning: \n",
            "A value is trying to be set on a copy of a slice from a DataFrame\n",
            "\n",
            "See the caveats in the documentation: https://pandas.pydata.org/pandas-docs/stable/user_guide/indexing.html#returning-a-view-versus-a-copy\n",
            "  errors=errors,\n",
            "/usr/local/lib/python3.7/dist-packages/ipykernel_launcher.py:57: SettingWithCopyWarning: \n",
            "A value is trying to be set on a copy of a slice from a DataFrame\n",
            "\n",
            "See the caveats in the documentation: https://pandas.pydata.org/pandas-docs/stable/user_guide/indexing.html#returning-a-view-versus-a-copy\n",
            "/usr/local/lib/python3.7/dist-packages/ipykernel_launcher.py:58: SettingWithCopyWarning: \n",
            "A value is trying to be set on a copy of a slice from a DataFrame\n",
            "\n",
            "See the caveats in the documentation: https://pandas.pydata.org/pandas-docs/stable/user_guide/indexing.html#returning-a-view-versus-a-copy\n",
            "/usr/local/lib/python3.7/dist-packages/ipykernel_launcher.py:59: SettingWithCopyWarning: \n",
            "A value is trying to be set on a copy of a slice from a DataFrame\n",
            "\n",
            "See the caveats in the documentation: https://pandas.pydata.org/pandas-docs/stable/user_guide/indexing.html#returning-a-view-versus-a-copy\n",
            "/usr/local/lib/python3.7/dist-packages/ipykernel_launcher.py:60: SettingWithCopyWarning: \n",
            "A value is trying to be set on a copy of a slice from a DataFrame\n",
            "\n",
            "See the caveats in the documentation: https://pandas.pydata.org/pandas-docs/stable/user_guide/indexing.html#returning-a-view-versus-a-copy\n",
            "/usr/local/lib/python3.7/dist-packages/ipykernel_launcher.py:61: SettingWithCopyWarning: \n",
            "A value is trying to be set on a copy of a slice from a DataFrame\n",
            "\n",
            "See the caveats in the documentation: https://pandas.pydata.org/pandas-docs/stable/user_guide/indexing.html#returning-a-view-versus-a-copy\n",
            "/usr/local/lib/python3.7/dist-packages/ipykernel_launcher.py:63: SettingWithCopyWarning: \n",
            "A value is trying to be set on a copy of a slice from a DataFrame\n",
            "\n",
            "See the caveats in the documentation: https://pandas.pydata.org/pandas-docs/stable/user_guide/indexing.html#returning-a-view-versus-a-copy\n",
            "/usr/local/lib/python3.7/dist-packages/ipykernel_launcher.py:64: SettingWithCopyWarning: \n",
            "A value is trying to be set on a copy of a slice from a DataFrame\n",
            "\n",
            "See the caveats in the documentation: https://pandas.pydata.org/pandas-docs/stable/user_guide/indexing.html#returning-a-view-versus-a-copy\n",
            "/usr/local/lib/python3.7/dist-packages/ipykernel_launcher.py:65: SettingWithCopyWarning: \n",
            "A value is trying to be set on a copy of a slice from a DataFrame\n",
            "\n",
            "See the caveats in the documentation: https://pandas.pydata.org/pandas-docs/stable/user_guide/indexing.html#returning-a-view-versus-a-copy\n",
            "/usr/local/lib/python3.7/dist-packages/ipykernel_launcher.py:66: SettingWithCopyWarning: \n",
            "A value is trying to be set on a copy of a slice from a DataFrame\n",
            "\n",
            "See the caveats in the documentation: https://pandas.pydata.org/pandas-docs/stable/user_guide/indexing.html#returning-a-view-versus-a-copy\n",
            "/usr/local/lib/python3.7/dist-packages/ipykernel_launcher.py:67: SettingWithCopyWarning: \n",
            "A value is trying to be set on a copy of a slice from a DataFrame\n",
            "\n",
            "See the caveats in the documentation: https://pandas.pydata.org/pandas-docs/stable/user_guide/indexing.html#returning-a-view-versus-a-copy\n",
            "/usr/local/lib/python3.7/dist-packages/ipykernel_launcher.py:68: SettingWithCopyWarning: \n",
            "A value is trying to be set on a copy of a slice from a DataFrame\n",
            "\n",
            "See the caveats in the documentation: https://pandas.pydata.org/pandas-docs/stable/user_guide/indexing.html#returning-a-view-versus-a-copy\n",
            "/usr/local/lib/python3.7/dist-packages/ipykernel_launcher.py:69: SettingWithCopyWarning: \n",
            "A value is trying to be set on a copy of a slice from a DataFrame\n",
            "\n",
            "See the caveats in the documentation: https://pandas.pydata.org/pandas-docs/stable/user_guide/indexing.html#returning-a-view-versus-a-copy\n"
          ]
        }
      ],
      "source": [
        "import pandas as pd\n",
        "import numpy as np\n",
        "from sklearn.model_selection import train_test_split as tts\n",
        "from sklearn.metrics import mean_squared_error as mse\n",
        "from keras.models import Sequential\n",
        "from keras.layers import Dense, Activation\n",
        "from keras import initializers\n",
        "from keras.layers import Dropout\n",
        "from tensorflow.keras.layers import BatchNormalization\n",
        "\n",
        "\n",
        "\n",
        "df1 = pd.read_csv(\"arranged_dataset_1.txt\",encoding = 'unicode_escape')\n",
        "df2 = pd.read_csv(\"arranged_dataset_2.txt\",encoding = 'unicode_escape')\n",
        "df3 = pd.read_csv(\"arranged_dataset_3.txt\",encoding = 'unicode_escape')\n",
        "\n",
        "df1.dropna(axis=0,how='all',inplace = True)\n",
        "df2.dropna(axis=0,how='all',inplace = True)\n",
        "df3.dropna(axis=0,how='all',inplace = True)\n",
        "\n",
        "df1.dropna(axis=1,how='all',inplace = True)\n",
        "df2.dropna(axis=1,how='all',inplace = True)\n",
        "df3.dropna(axis=1,how='all',inplace = True)\n",
        "\n",
        "df1.columns = df1.iloc[0]\n",
        "df2.columns = df2.iloc[0]\n",
        "df3.columns = df3.iloc[0]\n",
        "df1.drop(index=df1.index[0],axis=0,inplace=True)\n",
        "df2.drop(index=df2.index[0],axis=0,inplace=True)\n",
        "df3.drop(index=df3.index[0],axis=0,inplace=True)\n",
        "\n",
        "df1.drop(df1.columns[5],axis=1,inplace=True)\n",
        "df2.drop(df2.columns[8],axis=1,inplace=True)\n",
        "df3.drop(df3.columns[5],axis=1,inplace=True)\n",
        "\n",
        "df1.dropna(axis=0,how='all',inplace = True)\n",
        "df2.dropna(axis=0,how='all',inplace = True)\n",
        "df3.dropna(axis=0,how='all',inplace = True)\n",
        "\n",
        "df1.dropna(axis=1,how='any',inplace = True)\n",
        "df2.dropna(axis=1,how='any',inplace = True)\n",
        "df3.dropna(axis=1,how='any',inplace = True)\n",
        "\n",
        "X1, y1 = df1.iloc[:,:-1],df1.iloc[:,-1]\n",
        "X2, y2 = df2.iloc[:,:-1],df2.iloc[:,-1]\n",
        "X3, y3 = df3.iloc[:,:-1],df3.iloc[:,-1]\n",
        "\n",
        "X1.drop(X1.columns[1],axis=1,inplace=True)\n",
        "X2.drop(X2.columns[1],axis=1,inplace=True)\n",
        "X3.drop(X3.columns[1],axis=1,inplace=True)\n",
        "\n",
        "X1 = pd.get_dummies(X1, columns = ['Group'])\n",
        "\n",
        "X2 = pd.get_dummies(X2, columns = [\"Group\", 'Cell Type'])\n",
        "\n",
        "X3 = pd.get_dummies(X3, columns = [\"Group\", 'Cell Type'])\n",
        "\n",
        "X1['Body Temperature (oC )'][5] = 39\n",
        "X1['Body Temperature (oC )'][8] = 34.4\n",
        "X1['Body Temperature (oC )'][20] = 38.7\n",
        "X1['Body Temperature (oC )'][26] = 39\n",
        "X1['Body Temperature (oC )'][54] = 12\n",
        "\n",
        "X2['Body Temperature (oC )'][22] = 34.4\n",
        "X2['Body Temperature (oC )'][45] = 38.7\n",
        "X2['Body Temperature (oC )'][48] = 39\n",
        "X2['Body Temperature (oC )'][63] = 37\n",
        "X2['Body Temperature (oC )'][36] = 39\n",
        "X2['Body Temperature (oC )'][91] = 41\n",
        "X2['Body Temperature (oC )'][101] = 12\n",
        "\n",
        "X1 = X1.astype({\"Body Temperature (oC )\": float, \"Body Mass (kg)\":float, \"Average Cell Lifespan (d)\":float})\n",
        "X2 = X2.astype({\"Body Temperature (oC )\": float, \"Body Mass (kg)\":float, \"Average Cell Lifespan (d)\":float})\n",
        "X3 = X3.astype({\"BodyMass (kg)\":float, \"Replicative Lifespan (d)\":float})\n",
        "\n",
        "y1 = y1.astype(float)\n",
        "y2 = y2.astype(float)\n",
        "y3 = y3.astype(float)\n",
        "\n",
        "x1_train,x1_test,y1_train,y1_test = tts(X1,y1,test_size=0.3)\n",
        "x2_train,x2_test,y2_train,y2_test = tts(X2,y2,test_size=0.3)\n",
        "x3_train,x3_test,y3_train,y3_test = tts(X3,y3,test_size=0.3)\n"
      ]
    },
    {
      "cell_type": "code",
      "source": [
        "import tensorflow as tf\n",
        "from tensorflow.keras.optimizers import Adam\n",
        "# from tensorflow.keras.utils import to_categorical\n",
        "from tensorflow.keras.losses import MeanSquaredLogarithmicError"
      ],
      "metadata": {
        "id": "U9EEtSzLCD8g"
      },
      "execution_count": 10,
      "outputs": []
    },
    {
      "cell_type": "code",
      "source": [
        "x1_train.values"
      ],
      "metadata": {
        "colab": {
          "base_uri": "https://localhost:8080/"
        },
        "id": "lnR89DWdHlWA",
        "outputId": "6ab292a1-2f0f-4354-f49a-5b8da6c2ce87"
      },
      "execution_count": 6,
      "outputs": [
        {
          "output_type": "execute_result",
          "data": {
            "text/plain": [
              "array([[2.5000e+01, 1.9500e-02, 9.8700e+01, 1.0000e+00, 0.0000e+00,\n",
              "        0.0000e+00, 0.0000e+00, 0.0000e+00],\n",
              "       [3.8200e+01, 4.9000e+00, 3.1400e+01, 0.0000e+00, 1.0000e+00,\n",
              "        0.0000e+00, 0.0000e+00, 0.0000e+00],\n",
              "       [2.6500e+01, 1.9800e-02, 7.6900e+01, 0.0000e+00, 0.0000e+00,\n",
              "        0.0000e+00, 0.0000e+00, 1.0000e+00],\n",
              "       [3.7600e+01, 4.8600e+02, 1.4300e+02, 0.0000e+00, 0.0000e+00,\n",
              "        0.0000e+00, 1.0000e+00, 0.0000e+00],\n",
              "       [3.7300e+01, 3.0200e-01, 5.6000e+01, 0.0000e+00, 0.0000e+00,\n",
              "        0.0000e+00, 1.0000e+00, 0.0000e+00],\n",
              "       [3.3900e+01, 6.7200e-01, 9.1200e+01, 0.0000e+00, 0.0000e+00,\n",
              "        0.0000e+00, 1.0000e+00, 0.0000e+00],\n",
              "       [4.1500e+01, 4.1600e-01, 4.3000e+01, 0.0000e+00, 1.0000e+00,\n",
              "        0.0000e+00, 0.0000e+00, 0.0000e+00],\n",
              "       [3.7700e+01, 1.2000e-01, 9.1000e+01, 0.0000e+00, 0.0000e+00,\n",
              "        0.0000e+00, 1.0000e+00, 0.0000e+00],\n",
              "       [3.4900e+01, 4.4000e+00, 7.2000e+01, 0.0000e+00, 0.0000e+00,\n",
              "        0.0000e+00, 1.0000e+00, 0.0000e+00],\n",
              "       [4.1000e+01, 1.6000e-02, 1.9300e+01, 0.0000e+00, 1.0000e+00,\n",
              "        0.0000e+00, 0.0000e+00, 0.0000e+00],\n",
              "       [2.4500e+01, 1.0200e-02, 1.8180e+02, 0.0000e+00, 0.0000e+00,\n",
              "        0.0000e+00, 1.0000e+00, 0.0000e+00],\n",
              "       [1.9500e+01, 9.1000e-03, 1.1180e+02, 0.0000e+00, 0.0000e+00,\n",
              "        1.0000e+00, 0.0000e+00, 0.0000e+00],\n",
              "       [3.8900e+01, 1.9300e-01, 9.4600e+01, 0.0000e+00, 0.0000e+00,\n",
              "        0.0000e+00, 1.0000e+00, 0.0000e+00],\n",
              "       [3.9000e+01, 3.2000e+00, 5.7000e+01, 0.0000e+00, 0.0000e+00,\n",
              "        0.0000e+00, 1.0000e+00, 0.0000e+00],\n",
              "       [1.6500e+01, 2.5000e+00, 1.1352e+03, 0.0000e+00, 0.0000e+00,\n",
              "        0.0000e+00, 0.0000e+00, 1.0000e+00],\n",
              "       [1.2000e+01, 1.4000e+00, 5.0000e+02, 0.0000e+00, 0.0000e+00,\n",
              "        1.0000e+00, 0.0000e+00, 0.0000e+00],\n",
              "       [3.7100e+01, 5.5000e+01, 1.5900e+02, 0.0000e+00, 0.0000e+00,\n",
              "        0.0000e+00, 1.0000e+00, 0.0000e+00],\n",
              "       [1.4000e+01, 7.0000e-03, 8.6000e+01, 1.0000e+00, 0.0000e+00,\n",
              "        0.0000e+00, 0.0000e+00, 0.0000e+00],\n",
              "       [3.9100e+01, 6.4000e+01, 1.3500e+02, 0.0000e+00, 0.0000e+00,\n",
              "        0.0000e+00, 1.0000e+00, 0.0000e+00],\n",
              "       [3.7300e+01, 7.9500e-01, 9.2200e+01, 0.0000e+00, 0.0000e+00,\n",
              "        0.0000e+00, 1.0000e+00, 0.0000e+00],\n",
              "       [2.5000e+01, 7.8000e-02, 1.7200e+02, 1.0000e+00, 0.0000e+00,\n",
              "        0.0000e+00, 0.0000e+00, 0.0000e+00],\n",
              "       [3.7000e+01, 3.5300e+01, 1.5600e+02, 0.0000e+00, 0.0000e+00,\n",
              "        0.0000e+00, 1.0000e+00, 0.0000e+00],\n",
              "       [4.1700e+01, 3.4000e+00, 3.0000e+01, 0.0000e+00, 1.0000e+00,\n",
              "        0.0000e+00, 0.0000e+00, 0.0000e+00],\n",
              "       [3.8600e+01, 3.6000e+00, 7.2500e+01, 0.0000e+00, 0.0000e+00,\n",
              "        0.0000e+00, 1.0000e+00, 0.0000e+00],\n",
              "       [3.9000e+01, 3.2000e+01, 9.5000e+01, 0.0000e+00, 0.0000e+00,\n",
              "        0.0000e+00, 1.0000e+00, 0.0000e+00],\n",
              "       [3.6900e+01, 2.5700e-02, 4.3000e+01, 0.0000e+00, 0.0000e+00,\n",
              "        0.0000e+00, 1.0000e+00, 0.0000e+00],\n",
              "       [2.6500e+01, 2.0880e-01, 4.0100e+01, 0.0000e+00, 0.0000e+00,\n",
              "        0.0000e+00, 0.0000e+00, 1.0000e+00],\n",
              "       [3.8700e+01, 7.2000e+01, 2.0100e+02, 0.0000e+00, 0.0000e+00,\n",
              "        0.0000e+00, 1.0000e+00, 0.0000e+00],\n",
              "       [4.3500e+01, 2.2000e-02, 2.7800e+01, 0.0000e+00, 1.0000e+00,\n",
              "        0.0000e+00, 0.0000e+00, 0.0000e+00],\n",
              "       [2.5000e+01, 2.2500e-01, 7.3600e+01, 0.0000e+00, 0.0000e+00,\n",
              "        1.0000e+00, 0.0000e+00, 0.0000e+00],\n",
              "       [4.0000e+01, 4.1500e-01, 3.5000e+01, 0.0000e+00, 1.0000e+00,\n",
              "        0.0000e+00, 0.0000e+00, 0.0000e+00],\n",
              "       [3.7000e+01, 6.5000e+00, 9.5800e+01, 0.0000e+00, 0.0000e+00,\n",
              "        0.0000e+00, 1.0000e+00, 0.0000e+00],\n",
              "       [3.7000e+01, 4.5500e+01, 1.4700e+02, 0.0000e+00, 0.0000e+00,\n",
              "        0.0000e+00, 1.0000e+00, 0.0000e+00],\n",
              "       [3.8300e+01, 4.0400e+02, 1.3000e+02, 0.0000e+00, 0.0000e+00,\n",
              "        0.0000e+00, 1.0000e+00, 0.0000e+00],\n",
              "       [2.0000e+01, 6.2500e-01, 1.2200e+02, 0.0000e+00, 0.0000e+00,\n",
              "        0.0000e+00, 0.0000e+00, 1.0000e+00]])"
            ]
          },
          "metadata": {},
          "execution_count": 6
        }
      ]
    },
    {
      "cell_type": "code",
      "source": [
        "model = Sequential() # create model\n",
        "model.add(Dense(150, input_dim=8, trainable=True,activation='relu', use_bias=True, \n",
        "                kernel_initializer='normal')) # hidden \n",
        "model.add(Dropout(0.2))\n",
        "model.add(Dense(200, use_bias=False,activation='relu'))\n",
        "model.add(Dense(150, use_bias=False,activation='relu'))\n",
        "model.add(Dense(200, use_bias=False,activation='relu'))\n",
        "model.add(BatchNormalization())\n",
        "model.add(Activation(\"relu\"))\n",
        "\n",
        "model.add(Dense(1,activation='relu'))\n",
        "\n",
        "msle = MeanSquaredLogarithmicError()\n",
        "model.compile(\n",
        "    loss=msle, \n",
        "    optimizer=Adam(learning_rate=0.01), \n",
        "    metrics=[msle]\n",
        ")\n",
        "\n",
        "history = model.fit(\n",
        "    x1_train.values, \n",
        "    y1_train.values, \n",
        "    epochs=25, \n",
        "    batch_size=50,\n",
        "    validation_split=0.3\n",
        ")"
      ],
      "metadata": {
        "colab": {
          "base_uri": "https://localhost:8080/"
        },
        "id": "3mHULoE2HN3H",
        "outputId": "019a99ef-9334-4559-fa3c-dcee1aef3515"
      },
      "execution_count": 111,
      "outputs": [
        {
          "output_type": "stream",
          "name": "stdout",
          "text": [
            "Epoch 1/25\n",
            "1/1 [==============================] - 1s 919ms/step - loss: 6.4049 - mean_squared_logarithmic_error: 6.4049 - val_loss: 8.2096 - val_mean_squared_logarithmic_error: 8.2096\n",
            "Epoch 2/25\n",
            "1/1 [==============================] - 0s 32ms/step - loss: 5.5203 - mean_squared_logarithmic_error: 5.5203 - val_loss: 8.1691 - val_mean_squared_logarithmic_error: 8.1691\n",
            "Epoch 3/25\n",
            "1/1 [==============================] - 0s 36ms/step - loss: 5.1337 - mean_squared_logarithmic_error: 5.1337 - val_loss: 1.0302 - val_mean_squared_logarithmic_error: 1.0302\n",
            "Epoch 4/25\n",
            "1/1 [==============================] - 0s 39ms/step - loss: 4.9901 - mean_squared_logarithmic_error: 4.9901 - val_loss: 0.5891 - val_mean_squared_logarithmic_error: 0.5891\n",
            "Epoch 5/25\n",
            "1/1 [==============================] - 0s 32ms/step - loss: 4.8683 - mean_squared_logarithmic_error: 4.8683 - val_loss: 0.5627 - val_mean_squared_logarithmic_error: 0.5627\n",
            "Epoch 6/25\n",
            "1/1 [==============================] - 0s 33ms/step - loss: 4.7422 - mean_squared_logarithmic_error: 4.7422 - val_loss: 0.5682 - val_mean_squared_logarithmic_error: 0.5682\n",
            "Epoch 7/25\n",
            "1/1 [==============================] - 0s 33ms/step - loss: 4.4115 - mean_squared_logarithmic_error: 4.4115 - val_loss: 0.6017 - val_mean_squared_logarithmic_error: 0.6017\n",
            "Epoch 8/25\n",
            "1/1 [==============================] - 0s 32ms/step - loss: 4.2104 - mean_squared_logarithmic_error: 4.2104 - val_loss: 0.6175 - val_mean_squared_logarithmic_error: 0.6175\n",
            "Epoch 9/25\n",
            "1/1 [==============================] - 0s 38ms/step - loss: 3.5347 - mean_squared_logarithmic_error: 3.5347 - val_loss: 0.5823 - val_mean_squared_logarithmic_error: 0.5823\n",
            "Epoch 10/25\n",
            "1/1 [==============================] - 0s 38ms/step - loss: 3.5583 - mean_squared_logarithmic_error: 3.5583 - val_loss: 0.5743 - val_mean_squared_logarithmic_error: 0.5743\n",
            "Epoch 11/25\n",
            "1/1 [==============================] - 0s 32ms/step - loss: 3.2424 - mean_squared_logarithmic_error: 3.2424 - val_loss: 0.5819 - val_mean_squared_logarithmic_error: 0.5819\n",
            "Epoch 12/25\n",
            "1/1 [==============================] - 0s 35ms/step - loss: 2.9716 - mean_squared_logarithmic_error: 2.9716 - val_loss: 0.5963 - val_mean_squared_logarithmic_error: 0.5963\n",
            "Epoch 13/25\n",
            "1/1 [==============================] - 0s 38ms/step - loss: 2.8656 - mean_squared_logarithmic_error: 2.8656 - val_loss: 0.5913 - val_mean_squared_logarithmic_error: 0.5913\n",
            "Epoch 14/25\n",
            "1/1 [==============================] - 0s 32ms/step - loss: 2.6445 - mean_squared_logarithmic_error: 2.6445 - val_loss: 0.5878 - val_mean_squared_logarithmic_error: 0.5878\n",
            "Epoch 15/25\n",
            "1/1 [==============================] - 0s 33ms/step - loss: 2.3815 - mean_squared_logarithmic_error: 2.3815 - val_loss: 0.5831 - val_mean_squared_logarithmic_error: 0.5831\n",
            "Epoch 16/25\n",
            "1/1 [==============================] - 0s 31ms/step - loss: 2.2193 - mean_squared_logarithmic_error: 2.2193 - val_loss: 0.5850 - val_mean_squared_logarithmic_error: 0.5850\n",
            "Epoch 17/25\n",
            "1/1 [==============================] - 0s 36ms/step - loss: 1.9692 - mean_squared_logarithmic_error: 1.9692 - val_loss: 0.5877 - val_mean_squared_logarithmic_error: 0.5877\n",
            "Epoch 18/25\n",
            "1/1 [==============================] - 0s 31ms/step - loss: 1.9013 - mean_squared_logarithmic_error: 1.9013 - val_loss: 0.5904 - val_mean_squared_logarithmic_error: 0.5904\n",
            "Epoch 19/25\n",
            "1/1 [==============================] - 0s 34ms/step - loss: 1.7926 - mean_squared_logarithmic_error: 1.7926 - val_loss: 0.5948 - val_mean_squared_logarithmic_error: 0.5948\n",
            "Epoch 20/25\n",
            "1/1 [==============================] - 0s 37ms/step - loss: 1.6566 - mean_squared_logarithmic_error: 1.6566 - val_loss: 0.5941 - val_mean_squared_logarithmic_error: 0.5941\n",
            "Epoch 21/25\n",
            "1/1 [==============================] - 0s 37ms/step - loss: 1.5355 - mean_squared_logarithmic_error: 1.5355 - val_loss: 0.5948 - val_mean_squared_logarithmic_error: 0.5948\n",
            "Epoch 22/25\n",
            "1/1 [==============================] - 0s 37ms/step - loss: 1.3765 - mean_squared_logarithmic_error: 1.3765 - val_loss: 0.5952 - val_mean_squared_logarithmic_error: 0.5952\n",
            "Epoch 23/25\n",
            "1/1 [==============================] - 0s 37ms/step - loss: 1.2801 - mean_squared_logarithmic_error: 1.2801 - val_loss: 0.5931 - val_mean_squared_logarithmic_error: 0.5931\n",
            "Epoch 24/25\n",
            "1/1 [==============================] - 0s 33ms/step - loss: 1.2010 - mean_squared_logarithmic_error: 1.2010 - val_loss: 0.5926 - val_mean_squared_logarithmic_error: 0.5926\n",
            "Epoch 25/25\n",
            "1/1 [==============================] - 0s 36ms/step - loss: 1.0973 - mean_squared_logarithmic_error: 1.0973 - val_loss: 0.5886 - val_mean_squared_logarithmic_error: 0.5886\n"
          ]
        }
      ]
    },
    {
      "cell_type": "code",
      "source": [
        "preds = model.predict(x1_test)"
      ],
      "metadata": {
        "id": "uew8alQmKot-"
      },
      "execution_count": 112,
      "outputs": []
    },
    {
      "cell_type": "code",
      "source": [
        "rmse = np.sqrt(mse(y1_test, preds))\n",
        "print(\"\\n\\nRMSE for Table 1: %f\" % (rmse))"
      ],
      "metadata": {
        "colab": {
          "base_uri": "https://localhost:8080/"
        },
        "id": "Z7HtvFrjWyiL",
        "outputId": "8cd85c60-923e-45e9-d1e2-f5ccb37e17ea"
      },
      "execution_count": 113,
      "outputs": [
        {
          "output_type": "stream",
          "name": "stdout",
          "text": [
            "\n",
            "\n",
            "RMSE for Table 1: 15.951087\n"
          ]
        }
      ]
    },
    {
      "cell_type": "code",
      "source": [
        ""
      ],
      "metadata": {
        "id": "BT74HNy_X7SE"
      },
      "execution_count": null,
      "outputs": []
    }
  ]
}